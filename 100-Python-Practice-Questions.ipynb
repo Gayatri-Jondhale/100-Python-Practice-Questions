{
  "cells": [
    {
      "cell_type": "code",
      "execution_count": null,
      "metadata": {
        "colab": {
          "base_uri": "https://localhost:8080/"
        },
        "id": "HfYbmhZ91Ng_",
        "outputId": "6fd9321a-5a1f-4722-fbfe-004fa733a267"
      },
      "outputs": [
        {
          "name": "stdout",
          "output_type": "stream",
          "text": [
            "Enter the number:10\n",
            "Number is even\n"
          ]
        }
      ],
      "source": [
        "#q1)Write a program entered by the user is odd or even\n",
        "num=int(input(\"Enter the number:\"))\n",
        "if(num%2==0):\n",
        "  print(\"Number is even\")\n",
        "else:\n",
        "  print(\"Number is odd\")"
      ]
    },
    {
      "cell_type": "code",
      "execution_count": null,
      "metadata": {
        "colab": {
          "base_uri": "https://localhost:8080/"
        },
        "id": "jTb2_lFOj4oc",
        "outputId": "601037d2-df72-4654-9def-d3c4a5490126"
      },
      "outputs": [
        {
          "name": "stdout",
          "output_type": "stream",
          "text": [
            "Enter the marks of the student:95\n",
            "Grade=A\n"
          ]
        }
      ],
      "source": [
        "#q2) How to convert student marks into grades in Python?\n",
        "marks=int(input(\"Enter the marks of the student:\"))\n",
        "if(marks>=90):\n",
        "  print(\"Grade=A\")\n",
        "elif(marks>=80 and marks<90):\n",
        "  print(\"Grade=B\")\n",
        "elif(marks>=70 and marks<80):\n",
        "  print(\"Grade=C\")\n",
        "else:\n",
        "  print(\"grade=D\")\n"
      ]
    },
    {
      "cell_type": "code",
      "execution_count": null,
      "metadata": {
        "colab": {
          "base_uri": "https://localhost:8080/"
        },
        "id": "ipOT6JZc4Qu4",
        "outputId": "4ba52629-9924-481a-c28c-b01794fde2ba"
      },
      "outputs": [
        {
          "name": "stdout",
          "output_type": "stream",
          "text": [
            "Enter the first number:3\n",
            "Enter the second number:4\n",
            "Enter the third number:6\n",
            "num3 is greater\n"
          ]
        }
      ],
      "source": [
        "#q3)WAP to find the greatest of 3 numbers entered by the user\n",
        "num1=int(input(\"Enter the first number:\"))\n",
        "num2=int(input(\"Enter the second number:\"))\n",
        "num3=int(input(\"Enter the third number:\"))\n",
        "if (num1>num2 and num>num3):\n",
        "  print(\"num1 is greater\")\n",
        "elif(num2>num1 and num2>num3):\n",
        "  print(\"num2 is greater\")\n",
        "else:\n",
        "  print(\"num3 is greater\")"
      ]
    },
    {
      "cell_type": "code",
      "execution_count": null,
      "metadata": {
        "colab": {
          "base_uri": "https://localhost:8080/"
        },
        "id": "8N26hBQq5FC9",
        "outputId": "4c171477-e56e-467f-fa82-ba5648364e1d"
      },
      "outputs": [
        {
          "name": "stdout",
          "output_type": "stream",
          "text": [
            "Enter the number:14\n",
            "number is multiple of 7\n"
          ]
        }
      ],
      "source": [
        "#q4)WAP to check if a number is a multiple of 7 or not\n",
        "num=int(input(\"Enter the number:\"))\n",
        "if (num%7==0):\n",
        "  print(\"number is multiple of 7\")\n",
        "else:\n",
        "  print(\"number is not multiple of 7\")"
      ]
    },
    {
      "cell_type": "code",
      "execution_count": null,
      "metadata": {
        "id": "atiJZ4-n6_cV"
      },
      "outputs": [],
      "source": [
        "#q5)WAP to display \"Hello\" if number multiple by 5 otherwise display\"bye\"\n",
        "num=int(input(\"Enter the number:\"))\n",
        "if (num%5==0):\n",
        "  print(\"Hello\")\n",
        "else:\n",
        "  print(\"bye\")\n"
      ]
    },
    {
      "cell_type": "code",
      "execution_count": null,
      "metadata": {
        "colab": {
          "base_uri": "https://localhost:8080/"
        },
        "id": "HQXCH_jtUewB",
        "outputId": "74a6a4fa-2978-4f92-fb83-fba6f187d0e7"
      },
      "outputs": [
        {
          "name": "stdout",
          "output_type": "stream",
          "text": [
            "Enter the number.78\n",
            "Last digit of a number is 8\n"
          ]
        }
      ],
      "source": [
        "#q6) WAP to display the last digit of a number\n",
        "num=int(input(\"Enter the number.\"))\n",
        "print(\"Last digit of a number is\",num%10)"
      ]
    },
    {
      "cell_type": "code",
      "execution_count": null,
      "metadata": {
        "colab": {
          "base_uri": "https://localhost:8080/"
        },
        "id": "qA58R8qtV6sI",
        "outputId": "ccb5ba16-e80a-4253-e052-b604dce5c5bd"
      },
      "outputs": [
        {
          "name": "stdout",
          "output_type": "stream",
          "text": [
            "Enter the number:23\n",
            "last digit is divisible by 3\n"
          ]
        }
      ],
      "source": [
        "#q7) WAP to check whether the last digit of a number(entered by user) is divisible by 3 or not\n",
        "num=int(input(\"Enter the number:\"))\n",
        "if (num%10%3==0):\n",
        "  print(\"last digit is divisible by 3\")\n",
        "else:\n",
        "  print(\"Last digit is not divisible by 3\")"
      ]
    },
    {
      "cell_type": "code",
      "execution_count": null,
      "metadata": {
        "colab": {
          "base_uri": "https://localhost:8080/"
        },
        "id": "D0S14YPlW5tA",
        "outputId": "d76bb614-98c7-4795-8c28-4a46cd6f8bc7"
      },
      "outputs": [
        {
          "name": "stdout",
          "output_type": "stream",
          "text": [
            "Enter the year:2028\n",
            "year is a leap year\n"
          ]
        }
      ],
      "source": [
        "#q8)WAP to check whether an years is leap year or not\n",
        "year=int(input(\"Enter the year:\"))\n",
        "if year%100==0:\n",
        "  if year%400==0:\n",
        "    print(\"year is a leap year\")\n",
        "  else:\n",
        "    print(\"year is not a leap year\")\n",
        "else:\n",
        "  if year%4==0:\n",
        "    print(\"year is a leap year\")\n",
        "  else:\n",
        "    print(\"year is not a leap year\")"
      ]
    },
    {
      "cell_type": "code",
      "execution_count": null,
      "metadata": {
        "colab": {
          "base_uri": "https://localhost:8080/"
        },
        "id": "dAH0yMa7bUTq",
        "outputId": "7fb79da6-2589-4d44-e020-c1140fff4b3a"
      },
      "outputs": [
        {
          "name": "stdout",
          "output_type": "stream",
          "text": [
            "Enter any number between 1 to 7:3\n",
            "Tuesday\n"
          ]
        }
      ],
      "source": [
        "#q9)WAP to accept a number from 1 to 7 and display the name of the day like 1 for sunday, 2 for monday and so on\n",
        "num=int(input(\"Enter any number between 1 to 7:\"))\n",
        "if num==1:\n",
        "  print(\"sunday\")\n",
        "elif num==2:\n",
        "  print(\"monday\")\n",
        "elif num==3:\n",
        "  print(\"Tuesday\")\n",
        "elif num==4:\n",
        "  print(\"wednesday\")\n",
        "elif num==5:\n",
        "  print(\"Thursday\")\n",
        "elif num==6:\n",
        "  print(\"friday\")\n",
        "elif num==7:\n",
        "  print(\"saturday\")\n"
      ]
    },
    {
      "cell_type": "code",
      "execution_count": null,
      "metadata": {
        "colab": {
          "base_uri": "https://localhost:8080/"
        },
        "id": "dZL6dAKXgVkL",
        "outputId": "ca9efbbf-e098-4577-91ae-86d3f2cda56f"
      },
      "outputs": [
        {
          "name": "stdout",
          "output_type": "stream",
          "text": [
            "Enter the name of the city:Delhi\n",
            "monument name is: Red Fort\n"
          ]
        }
      ],
      "source": [
        "'''q10)Accept any city from the user and display monument of that city\n",
        "    city              Monument\n",
        "    Delhi             Red fort\n",
        "    Agra              Taj mahal\n",
        "    Jaipur            Jal mahal'''\n",
        "\"\"\n",
        "city=input(\"Enter the name of the city:\")\n",
        "if city.lower()==\"delhi\":\n",
        "  print(\"monument name is: Red Fort\")\n",
        "elif city.lower()==\"agra\":\n",
        "  print(\"monument name is: Taj Mahal\")\n",
        "elif city.lower()==\"jaipur\":\n",
        "  print(\"monument name is: Jal Mahal\")\n",
        "else:\n",
        "  print(\"Enter correct name of the city\")\n"
      ]
    },
    {
      "cell_type": "markdown",
      "metadata": {
        "id": "XlQynP0hpVU0"
      },
      "source": [
        "##LOOPS"
      ]
    },
    {
      "cell_type": "code",
      "execution_count": null,
      "metadata": {
        "colab": {
          "base_uri": "https://localhost:8080/"
        },
        "id": "vxHw5iS8pS6v",
        "outputId": "245856f8-8491-4bfa-ce18-911067a95855"
      },
      "outputs": [
        {
          "name": "stdout",
          "output_type": "stream",
          "text": [
            "1\n",
            "2\n",
            "3\n",
            "4\n",
            "5\n",
            "6\n",
            "7\n",
            "8\n",
            "9\n",
            "10\n",
            "11\n",
            "12\n",
            "13\n",
            "14\n",
            "15\n",
            "16\n",
            "17\n",
            "18\n",
            "19\n",
            "20\n",
            "21\n",
            "22\n",
            "23\n",
            "24\n",
            "25\n",
            "26\n",
            "27\n",
            "28\n",
            "29\n",
            "30\n",
            "31\n",
            "32\n",
            "33\n",
            "34\n",
            "35\n",
            "36\n",
            "37\n",
            "38\n",
            "39\n",
            "40\n",
            "41\n",
            "42\n",
            "43\n",
            "44\n",
            "45\n",
            "46\n",
            "47\n",
            "48\n",
            "49\n",
            "50\n",
            "51\n",
            "52\n",
            "53\n",
            "54\n",
            "55\n",
            "56\n",
            "57\n",
            "58\n",
            "59\n",
            "60\n",
            "61\n",
            "62\n",
            "63\n",
            "64\n",
            "65\n",
            "66\n",
            "67\n",
            "68\n",
            "69\n",
            "70\n",
            "71\n",
            "72\n",
            "73\n",
            "74\n",
            "75\n",
            "76\n",
            "77\n",
            "78\n",
            "79\n",
            "80\n",
            "81\n",
            "82\n",
            "83\n",
            "84\n",
            "85\n",
            "86\n",
            "87\n",
            "88\n",
            "89\n",
            "90\n",
            "91\n",
            "92\n",
            "93\n",
            "94\n",
            "95\n",
            "96\n",
            "97\n",
            "98\n",
            "99\n",
            "100\n"
          ]
        }
      ],
      "source": [
        "#11)print numbers from 1 to 100\n",
        "i=1\n",
        "while i<=100:\n",
        "  print(i)\n",
        "  i+=1"
      ]
    },
    {
      "cell_type": "code",
      "execution_count": null,
      "metadata": {
        "colab": {
          "base_uri": "https://localhost:8080/"
        },
        "id": "_5Rqm4gkpzWd",
        "outputId": "3894812f-aac4-4fd8-83ca-17500681ae73"
      },
      "outputs": [
        {
          "name": "stdout",
          "output_type": "stream",
          "text": [
            "100\n",
            "99\n",
            "98\n",
            "97\n",
            "96\n",
            "95\n",
            "94\n",
            "93\n",
            "92\n",
            "91\n",
            "90\n",
            "89\n",
            "88\n",
            "87\n",
            "86\n",
            "85\n",
            "84\n",
            "83\n",
            "82\n",
            "81\n",
            "80\n",
            "79\n",
            "78\n",
            "77\n",
            "76\n",
            "75\n",
            "74\n",
            "73\n",
            "72\n",
            "71\n",
            "70\n",
            "69\n",
            "68\n",
            "67\n",
            "66\n",
            "65\n",
            "64\n",
            "63\n",
            "62\n",
            "61\n",
            "60\n",
            "59\n",
            "58\n",
            "57\n",
            "56\n",
            "55\n",
            "54\n",
            "53\n",
            "52\n",
            "51\n",
            "50\n",
            "49\n",
            "48\n",
            "47\n",
            "46\n",
            "45\n",
            "44\n",
            "43\n",
            "42\n",
            "41\n",
            "40\n",
            "39\n",
            "38\n",
            "37\n",
            "36\n",
            "35\n",
            "34\n",
            "33\n",
            "32\n",
            "31\n",
            "30\n",
            "29\n",
            "28\n",
            "27\n",
            "26\n",
            "25\n",
            "24\n",
            "23\n",
            "22\n",
            "21\n",
            "20\n",
            "19\n",
            "18\n",
            "17\n",
            "16\n",
            "15\n",
            "14\n",
            "13\n",
            "12\n",
            "11\n",
            "10\n",
            "9\n",
            "8\n",
            "7\n",
            "6\n",
            "5\n",
            "4\n",
            "3\n",
            "2\n",
            "1\n"
          ]
        }
      ],
      "source": [
        "#12) print numbers from 100 to 1\n",
        "i=100\n",
        "while i>=1:\n",
        "  print(i)\n",
        "  i-=1\n"
      ]
    },
    {
      "cell_type": "code",
      "execution_count": null,
      "metadata": {
        "colab": {
          "base_uri": "https://localhost:8080/"
        },
        "id": "Ilm7NND0qHoR",
        "outputId": "94cac4b5-04e8-4b8f-94b2-62675410e008"
      },
      "outputs": [
        {
          "name": "stdout",
          "output_type": "stream",
          "text": [
            "Enter the number:2\n",
            "2 * 1 = 2\n",
            "2 * 2 = 4\n",
            "2 * 3 = 6\n",
            "2 * 4 = 8\n",
            "2 * 5 = 10\n",
            "2 * 6 = 12\n",
            "2 * 7 = 14\n",
            "2 * 8 = 16\n",
            "2 * 9 = 18\n",
            "2 * 10 = 20\n"
          ]
        }
      ],
      "source": [
        "#13) print multiplication table of a number n\n",
        "num=int(input(\"Enter the number:\"))\n",
        "i=1\n",
        "while i<=10:\n",
        "  print(num,\"*\",i,\"=\",num*i)\n",
        "  i+=1"
      ]
    },
    {
      "cell_type": "code",
      "execution_count": null,
      "metadata": {
        "colab": {
          "base_uri": "https://localhost:8080/"
        },
        "id": "K5nxZ-kgq74G",
        "outputId": "9d5ccc23-04ca-4492-ff9a-1514327e45a3"
      },
      "outputs": [
        {
          "name": "stdout",
          "output_type": "stream",
          "text": [
            "1\n",
            "4\n",
            "9\n",
            "16\n",
            "25\n",
            "36\n",
            "49\n",
            "64\n",
            "81\n",
            "100\n"
          ]
        }
      ],
      "source": [
        "'''14)print the elements of the following list using a loop\n",
        "[1,4,9,16,25,36,49,64,81,100]'''\n",
        "list=[1,4,9,16,25,36,49,64,81,100]\n",
        "idx=0\n",
        "while idx<len(list):\n",
        "  print(list[idx])\n",
        "  idx+=1"
      ]
    },
    {
      "cell_type": "code",
      "execution_count": null,
      "metadata": {
        "colab": {
          "base_uri": "https://localhost:8080/"
        },
        "id": "ALkzkEgprbwn",
        "outputId": "bb7f567a-649e-47ec-a157-583927cf0ca7"
      },
      "outputs": [
        {
          "name": "stdout",
          "output_type": "stream",
          "text": [
            "found at idx 4\n"
          ]
        }
      ],
      "source": [
        "'''15)search for number x in this tuple using loop:'''\n",
        "nums=(1,4,9,16,25,36,49,64,81,100)\n",
        "x=25\n",
        "i=0\n",
        "while i <  len(nums):\n",
        "  if(nums[i]==x):\n",
        "    print(\"found at idx\",i)\n",
        "  i+=1"
      ]
    },
    {
      "cell_type": "code",
      "execution_count": null,
      "metadata": {
        "colab": {
          "base_uri": "https://localhost:8080/"
        },
        "id": "upXXOOlJSbQb",
        "outputId": "9b40b76d-335e-4736-853a-e64948eb7aeb"
      },
      "outputs": [
        {
          "name": "stdout",
          "output_type": "stream",
          "text": [
            "1\n",
            "4\n",
            "9\n",
            "16\n",
            "25\n",
            "36\n",
            "49\n",
            "64\n",
            "81\n",
            "100\n"
          ]
        }
      ],
      "source": [
        "''' 16)print the elements of the following list using a loop\n",
        "list=[1,4,9,16,25,36,49,64,81,100]'''\n",
        "list=[1,4,9,16,25,36,49,64,81,100]\n",
        "for i in list:\n",
        "  print(i)"
      ]
    },
    {
      "cell_type": "code",
      "execution_count": null,
      "metadata": {
        "colab": {
          "base_uri": "https://localhost:8080/"
        },
        "id": "LvGVLqJFR4ni",
        "outputId": "17d96da7-dd02-4e90-83b2-280bc328412e"
      },
      "outputs": [
        {
          "name": "stdout",
          "output_type": "stream",
          "text": [
            "number found at idx 5\n"
          ]
        }
      ],
      "source": [
        "'''17)search for number x in this tuple using loop:'''\n",
        "nums=(1,4,9,16,25,36,49,64,81,100,36)\n",
        "x=36\n",
        "idx=0\n",
        "for el in nums:\n",
        "  if(el==x):\n",
        "    print(\"number found at idx\",idx)\n",
        "    break\n",
        "  idx+=1\n"
      ]
    },
    {
      "cell_type": "code",
      "execution_count": null,
      "metadata": {
        "colab": {
          "base_uri": "https://localhost:8080/"
        },
        "id": "8yxmF0DnvFcW",
        "outputId": "d5ae9067-992d-4f60-e11a-d51bbbf30e85"
      },
      "outputs": [
        {
          "name": "stdout",
          "output_type": "stream",
          "text": [
            "1\n",
            "2\n",
            "3\n",
            "4\n",
            "5\n"
          ]
        }
      ],
      "source": [
        "#18)Print the elements of a list using a for loop:\n",
        "MY_LIST=[1,2,3,4,5]\n",
        "for element in MY_LIST:\n",
        "  print(element)"
      ]
    },
    {
      "cell_type": "code",
      "execution_count": null,
      "metadata": {
        "colab": {
          "base_uri": "https://localhost:8080/"
        },
        "id": "J3S8XL4OBdRq",
        "outputId": "ef9d1a78-c528-45f4-818c-c5947f0d331a"
      },
      "outputs": [
        {
          "name": "stdout",
          "output_type": "stream",
          "text": [
            "product of all elements in the list is: 1296\n"
          ]
        }
      ],
      "source": [
        "#19)calculate the product of element in a list using a for loop:\n",
        "my_list=[1,3,6,8,9]\n",
        "product=1\n",
        "for num in my_list:\n",
        "  product*=num\n",
        "print(\"product of all elements in the list is:\",product)"
      ]
    },
    {
      "cell_type": "code",
      "execution_count": null,
      "metadata": {
        "colab": {
          "base_uri": "https://localhost:8080/"
        },
        "id": "3VL59dPnDENU",
        "outputId": "f92540fc-cbbd-4797-ce9a-82607216d5d4"
      },
      "outputs": [
        {
          "name": "stdout",
          "output_type": "stream",
          "text": [
            "2\n",
            "4\n",
            "6\n",
            "8\n",
            "10\n"
          ]
        }
      ],
      "source": [
        "#20)Print even numbers from 1 to 10 using a for loop:\n",
        "for num in range(2,11,2):\n",
        "  print(num)"
      ]
    },
    {
      "cell_type": "code",
      "execution_count": null,
      "metadata": {
        "colab": {
          "base_uri": "https://localhost:8080/"
        },
        "id": "U0CdddZCDgyA",
        "outputId": "1735770d-1cdf-4f56-9c0a-b9942896db70"
      },
      "outputs": [
        {
          "name": "stdout",
          "output_type": "stream",
          "text": [
            "10\n",
            "9\n",
            "8\n",
            "7\n",
            "6\n",
            "5\n",
            "4\n",
            "3\n",
            "2\n",
            "1\n"
          ]
        }
      ],
      "source": [
        "#21)Print numbers in reverse from 10 to 1 using a for loop:\n",
        "for num in range(10,0,-1):\n",
        "  print(num)"
      ]
    },
    {
      "cell_type": "code",
      "execution_count": null,
      "metadata": {
        "colab": {
          "base_uri": "https://localhost:8080/"
        },
        "id": "I6Xn189_D0Oy",
        "outputId": "464e9e29-9032-44a0-a41d-cbe9e73a89a1"
      },
      "outputs": [
        {
          "name": "stdout",
          "output_type": "stream",
          "text": [
            "H\n",
            "e\n",
            "l\n",
            "l\n",
            "o\n"
          ]
        }
      ],
      "source": [
        "#22)Print characters of a string using a for loop:\n",
        "str=\"Hello\"\n",
        "for char in str:\n",
        "  print(char)"
      ]
    },
    {
      "cell_type": "code",
      "execution_count": null,
      "metadata": {
        "colab": {
          "base_uri": "https://localhost:8080/"
        },
        "id": "0EdRUaKNEEz7",
        "outputId": "6987e0ae-3ffd-4ff7-89ee-fe9e88c1aabe"
      },
      "outputs": [
        {
          "name": "stdout",
          "output_type": "stream",
          "text": [
            "largest number in the list is: 10\n"
          ]
        }
      ],
      "source": [
        "#23)Find the largest number in a list using a for loop:\n",
        "list=[2,5,8,9,10,9]\n",
        "largest=list[0]\n",
        "for num in list:\n",
        "  if num>largest:\n",
        "    largest=num\n",
        "print(\"largest number in the list is:\",largest)"
      ]
    },
    {
      "cell_type": "code",
      "execution_count": null,
      "metadata": {
        "id": "dpD3J_RrHbT7"
      },
      "outputs": [],
      "source": [
        "#24)Find the average of numbers in a list using a for loop:\n",
        "list=[2,5,8,9,10,9]\n",
        "sum=0\n",
        "for num in list:\n",
        "  sum+=num\n",
        "average=sum/len(list)\n",
        "print(\"average of numbers in the list is:\",average)"
      ]
    },
    {
      "cell_type": "code",
      "execution_count": null,
      "metadata": {
        "colab": {
          "base_uri": "https://localhost:8080/"
        },
        "id": "khGu_uPWJCgw",
        "outputId": "4b118b38-6cf0-430c-bde2-95f6a1921834"
      },
      "outputs": [
        {
          "name": "stdout",
          "output_type": "stream",
          "text": [
            "G\n"
          ]
        }
      ],
      "source": [
        "#25)Print all uppercase letters in a string using a for loop:\n",
        "l=\"Gayatri\"\n",
        "for char in l:\n",
        "  if char.isupper():\n",
        "    print(char)"
      ]
    },
    {
      "cell_type": "code",
      "execution_count": null,
      "metadata": {
        "colab": {
          "base_uri": "https://localhost:8080/"
        },
        "id": "rkXmU_PGJZc2",
        "outputId": "55ef5aa7-fb74-47ed-e70d-35461f17120e"
      },
      "outputs": [
        {
          "name": "stdout",
          "output_type": "stream",
          "text": [
            "3\n"
          ]
        }
      ],
      "source": [
        "#26)Count the number of vowels in a string using a for loop:\n",
        "str=\"jaishri\"\n",
        "vowels=\"AEIOUaeiou\"\n",
        "count=0\n",
        "for char in str:\n",
        "  if char in vowels:\n",
        "    count+=1\n",
        "print(count)"
      ]
    },
    {
      "cell_type": "code",
      "execution_count": null,
      "metadata": {
        "colab": {
          "base_uri": "https://localhost:8080/"
        },
        "id": "cfu6ENyFLTw3",
        "outputId": "b5861b55-5b82-4147-8fdc-3a33a83aa9d0"
      },
      "outputs": [
        {
          "name": "stdout",
          "output_type": "stream",
          "text": [
            "*\n",
            "**\n",
            "***\n",
            "****\n",
            "*****\n"
          ]
        }
      ],
      "source": [
        "#27)Print a pattern of stars using nested for loops:\n",
        "for i in range(5):\n",
        "  for j in range(i+1):\n",
        "    print(\"*\",end=\"\")\n",
        "  print()"
      ]
    },
    {
      "cell_type": "code",
      "execution_count": null,
      "metadata": {
        "colab": {
          "base_uri": "https://localhost:8080/"
        },
        "id": "7RpeHJAaMGIv",
        "outputId": "fdaf3ba1-463d-4176-c4bc-abfd3c056070"
      },
      "outputs": [
        {
          "name": "stdout",
          "output_type": "stream",
          "text": [
            "120\n"
          ]
        }
      ],
      "source": [
        "#28)Calculate factorial of a number using a while loop:\n",
        "num=5\n",
        "factorial=1\n",
        "while num>0:\n",
        "  factorial*=num\n",
        "  num-=1\n",
        "print(factorial)"
      ]
    },
    {
      "cell_type": "code",
      "execution_count": null,
      "metadata": {
        "colab": {
          "base_uri": "https://localhost:8080/"
        },
        "id": "YIKE1BDTNCE-",
        "outputId": "d04acbc7-0b75-4b58-cacd-3627f6d707b4"
      },
      "outputs": [
        {
          "name": "stdout",
          "output_type": "stream",
          "text": [
            "3\n"
          ]
        }
      ],
      "source": [
        "#29)Find the first occurrence of a number in a list using a while loop:\n",
        "list=[3,8,2,7,4]\n",
        "target=7\n",
        "index=0\n",
        "while index<len(list):\n",
        "  if list[index]==target:\n",
        "    break\n",
        "  index+=1\n",
        "else:\n",
        "  index=-1\n",
        "print(index)\n"
      ]
    },
    {
      "cell_type": "code",
      "execution_count": null,
      "metadata": {
        "colab": {
          "base_uri": "https://localhost:8080/"
        },
        "id": "3w9Oo-tQPkKd",
        "outputId": "fff55a60-78c6-458b-d6b6-3dfac12a0da6"
      },
      "outputs": [
        {
          "name": "stdout",
          "output_type": "stream",
          "text": [
            "5050\n"
          ]
        }
      ],
      "source": [
        "#30)Calculate the sum of numbers from 1 to 100 using a while loop:\n",
        "num = 1\n",
        "sum_numbers = 0\n",
        "while num <= 100:\n",
        "    sum_numbers += num\n",
        "    num += 1\n",
        "print(sum_numbers)"
      ]
    },
    {
      "cell_type": "code",
      "execution_count": null,
      "metadata": {
        "colab": {
          "base_uri": "https://localhost:8080/"
        },
        "id": "ay6ZG-S8Q4SR",
        "outputId": "69b063d2-3481-482d-a37f-1f1f87dc2fc9"
      },
      "outputs": [
        {
          "name": "stdout",
          "output_type": "stream",
          "text": [
            "2\n",
            "3\n",
            "5\n",
            "7\n",
            "11\n",
            "13\n",
            "17\n",
            "19\n",
            "23\n",
            "29\n",
            "31\n",
            "37\n",
            "41\n",
            "43\n",
            "47\n"
          ]
        }
      ],
      "source": [
        "#31)Find all prime numbers between 1 and 50 using nested for and if:\n",
        "\n",
        "for num in range(2, 51):\n",
        "    for i in range(2, num):\n",
        "        if num % i == 0:\n",
        "            break\n",
        "    else:\n",
        "        print(num)"
      ]
    },
    {
      "cell_type": "code",
      "execution_count": null,
      "metadata": {
        "colab": {
          "base_uri": "https://localhost:8080/"
        },
        "id": "LoYgtgg3WAKW",
        "outputId": "84708aa2-5758-498c-ca27-4678e664a7f4"
      },
      "outputs": [
        {
          "name": "stdout",
          "output_type": "stream",
          "text": [
            "3\n",
            "5\n",
            "6\n",
            "9\n",
            "10\n",
            "12\n",
            "15\n",
            "18\n",
            "20\n"
          ]
        }
      ],
      "source": [
        "#32)Print numbers divisible by 3 or 5 from 1 to 20 using a for loop:\n",
        "for num in range(1,21):\n",
        "  if num%3==0 or num%5==0:\n",
        "    print(num)\n"
      ]
    },
    {
      "cell_type": "code",
      "execution_count": null,
      "metadata": {
        "colab": {
          "base_uri": "https://localhost:8080/"
        },
        "id": "yAF9EIpYWUvA",
        "outputId": "61b29386-82e6-4771-958c-2c52442a3d8e"
      },
      "outputs": [
        {
          "name": "stdout",
          "output_type": "stream",
          "text": [
            "[1, 4, 9, 16, 25]\n"
          ]
        }
      ],
      "source": [
        "#33)Print a list of squares of numbers from 1 to 5 using a list comprehension:\n",
        "squares=[num**2 for num in range(1,6)]\n",
        "print(squares)"
      ]
    },
    {
      "cell_type": "code",
      "execution_count": null,
      "metadata": {
        "colab": {
          "base_uri": "https://localhost:8080/"
        },
        "id": "6UVmQ5_VW5am",
        "outputId": "9b6a4d14-d557-49f8-f385-6f5559417161"
      },
      "outputs": [
        {
          "name": "stdout",
          "output_type": "stream",
          "text": [
            "0 1 1 2 3 5 8 13 21 34 "
          ]
        }
      ],
      "source": [
        "#34)Print the Fibonacci sequence up to the 10th term using a while loop:\n",
        "a,b=0,1\n",
        "count=0\n",
        "while count<10:\n",
        "  print(a,end=\" \")\n",
        "  a,b=b, a+b\n",
        "  count+=1"
      ]
    },
    {
      "cell_type": "code",
      "execution_count": null,
      "metadata": {
        "colab": {
          "base_uri": "https://localhost:8080/"
        },
        "id": "_s6vDu0UXbyN",
        "outputId": "1be40502-0a54-46e3-85e5-bbb49cb7ba7f"
      },
      "outputs": [
        {
          "name": "stdout",
          "output_type": "stream",
          "text": [
            "[3, 4, 5]\n"
          ]
        }
      ],
      "source": [
        "#35)Find the common elements in two lists using a for loop:\n",
        "list1=[1,2,3,4,5]\n",
        "list2=[3,4,5,6,7]\n",
        "common_elements=[]\n",
        "for element in list1:\n",
        "  if element in list2:\n",
        "    common_elements.append(element)\n",
        "print(common_elements)"
      ]
    },
    {
      "cell_type": "code",
      "execution_count": null,
      "metadata": {
        "colab": {
          "base_uri": "https://localhost:8080/"
        },
        "id": "9opftCNOg5xz",
        "outputId": "d52838b9-3db7-460a-a3e0-8d5e1afa1144"
      },
      "outputs": [
        {
          "name": "stdout",
          "output_type": "stream",
          "text": [
            "1\n",
            "4\n",
            "6\n",
            "8\n",
            "10\n"
          ]
        }
      ],
      "source": [
        "#36)Print numbers in a list until a negative number is encountered using a while loop\n",
        "my_list=[1,4,6,8,10,-3,5,7]\n",
        "index=0\n",
        "while my_list[index]>=0:\n",
        "  print(my_list[index])\n",
        "  index+=1"
      ]
    },
    {
      "cell_type": "code",
      "execution_count": null,
      "metadata": {
        "colab": {
          "base_uri": "https://localhost:8080/"
        },
        "id": "d7JwKxxXhghk",
        "outputId": "511ef9c3-56c3-4921-c868-334b79a1f1b2"
      },
      "outputs": [
        {
          "name": "stdout",
          "output_type": "stream",
          "text": [
            "1\n",
            "2\n",
            "4\n",
            "5\n"
          ]
        }
      ],
      "source": [
        "#37)Print numbers from 1 to 5, except 3 using a for loop and continue statement:\n",
        "for num in range(1,6):\n",
        "  if num==3:\n",
        "    continue\n",
        "  print(num)\n"
      ]
    },
    {
      "cell_type": "code",
      "execution_count": null,
      "metadata": {
        "colab": {
          "base_uri": "https://localhost:8080/"
        },
        "id": "sodndR1Fh9_u",
        "outputId": "75f0ca32-b286-42d0-8d0c-9ded3a524e1d"
      },
      "outputs": [
        {
          "name": "stdout",
          "output_type": "stream",
          "text": [
            "1\n",
            "2\n",
            "3\n",
            "4\n"
          ]
        }
      ],
      "source": [
        "'''38)Print numbers from 1 to 10. If a number is divisible by 4, stop the loop using a for loop and break statement:\n",
        "\n",
        "for num in range(1, 11)'''\n",
        "for num in range(1,11):\n",
        "  print(num)\n",
        "  if num%4==0:\n",
        "    break"
      ]
    },
    {
      "cell_type": "code",
      "execution_count": null,
      "metadata": {
        "colab": {
          "base_uri": "https://localhost:8080/"
        },
        "id": "q-BZlvj8isZn",
        "outputId": "89315c4c-29e8-4f76-9ac9-fcce7bd9c733"
      },
      "outputs": [
        {
          "name": "stdout",
          "output_type": "stream",
          "text": [
            "1\n",
            "3\n",
            "5\n",
            "7\n",
            "9\n",
            "loop completed\n"
          ]
        }
      ],
      "source": [
        "'''39)Print numbers from 1 to 10. If a number is even, skip it using a for loop and else clause:'''\n",
        "for num in range(1,11):\n",
        "  if num%2==0:\n",
        "    continue\n",
        "  print(num)\n",
        "else:\n",
        "  print(\"loop completed\")\n"
      ]
    },
    {
      "cell_type": "code",
      "execution_count": null,
      "metadata": {
        "colab": {
          "base_uri": "https://localhost:8080/"
        },
        "id": "-vrHhuPIjZ6k",
        "outputId": "620a1b67-0600-4c1d-c3a4-ad6989169bd9"
      },
      "outputs": [
        {
          "name": "stdout",
          "output_type": "stream",
          "text": [
            "1\n"
          ]
        }
      ],
      "source": [
        "'''40)Print numbers from 1 to 10. If a number is even, break the loop using a for loop and else clause:'''\n",
        "for num in range(1,11):\n",
        "  if num%2==0:\n",
        "    break\n",
        "  print(num)\n",
        "else:\n",
        "  print(\"loop completed\")"
      ]
    },
    {
      "cell_type": "code",
      "execution_count": null,
      "metadata": {
        "colab": {
          "base_uri": "https://localhost:8080/"
        },
        "id": "RwoPrh5Oj_OD",
        "outputId": "69f242f2-3d0b-4719-e8a3-1e719821133e"
      },
      "outputs": [
        {
          "name": "stdout",
          "output_type": "stream",
          "text": [
            "string is palindrome\n"
          ]
        }
      ],
      "source": [
        "#41)Check if a string is a palindrome\n",
        "str=\"madam\"\n",
        "if str==str[::-1]:\n",
        "  print(\"string is palindrome\")\n",
        "else:\n",
        "  print(\"string is not palindrome\")\n"
      ]
    },
    {
      "cell_type": "code",
      "execution_count": null,
      "metadata": {
        "colab": {
          "base_uri": "https://localhost:8080/"
        },
        "id": "sVjBILYxlR5c",
        "outputId": "d4790a32-6df9-4836-e389-c5764b01502a"
      },
      "outputs": [
        {
          "name": "stdout",
          "output_type": "stream",
          "text": [
            "True\n",
            "False\n"
          ]
        }
      ],
      "source": [
        "#42)Check if a string is a palindrome using function\n",
        "def is_palindrome(s):\n",
        "  return s==s[::-1]\n",
        "print(is_palindrome(\"madam\"))\n",
        "print(is_palindrome(\"hello\"))"
      ]
    },
    {
      "cell_type": "code",
      "execution_count": null,
      "metadata": {
        "colab": {
          "base_uri": "https://localhost:8080/"
        },
        "id": "TaX67qQNlxFf",
        "outputId": "e7ad27b3-9da6-488d-cd22-cbe8eb8e4e3a"
      },
      "outputs": [
        {
          "name": "stdout",
          "output_type": "stream",
          "text": [
            "olleh\n"
          ]
        }
      ],
      "source": [
        "#43)Reverse a string\n",
        "def reverse_string(s):\n",
        "  return s[::-1]\n",
        "print(reverse_string(\"hello\"))"
      ]
    },
    {
      "cell_type": "code",
      "execution_count": null,
      "metadata": {
        "colab": {
          "base_uri": "https://localhost:8080/"
        },
        "id": "C_PQ4xrCmC09",
        "outputId": "5ce5261c-1d95-4f94-c67d-654260692a6b"
      },
      "outputs": [
        {
          "name": "stdout",
          "output_type": "stream",
          "text": [
            "15\n"
          ]
        }
      ],
      "source": [
        "#44)Find the greatest of three numbers\n",
        "def max_of_three(a,b,c):\n",
        "  return max(a,b,c)\n",
        "print(max_of_three(5,10,15))"
      ]
    },
    {
      "cell_type": "code",
      "execution_count": null,
      "metadata": {
        "colab": {
          "base_uri": "https://localhost:8080/"
        },
        "id": "yBS-Kg96mWPQ",
        "outputId": "ac3a5400-a46d-4962-9130-d4461475ddc3"
      },
      "outputs": [
        {
          "name": "stdout",
          "output_type": "stream",
          "text": [
            "0 1 1 2 3 "
          ]
        }
      ],
      "source": [
        "#45)Generate Fibonacci series up to n terms\n",
        "def Fibonacci(n):\n",
        "  a,b=0,1\n",
        "  for _ in range(n):\n",
        "    print(a,end=\" \")\n",
        "    a,b=b, a+b\n",
        "Fibonacci(5)"
      ]
    },
    {
      "cell_type": "code",
      "execution_count": null,
      "metadata": {
        "colab": {
          "base_uri": "https://localhost:8080/"
        },
        "id": "T3q_zNxrnEiS",
        "outputId": "0e9ccfde-0a25-474c-a5e2-53fff458a6e6"
      },
      "outputs": [
        {
          "name": "stdout",
          "output_type": "stream",
          "text": [
            "3\n"
          ]
        }
      ],
      "source": [
        "#46)Find the missing number in an array\n",
        "def find_missing_number(arr, n):\n",
        "  return n*(n+1)//2-sum(arr)\n",
        "print(find_missing_number([1,2,4,5,6],6))"
      ]
    },
    {
      "cell_type": "code",
      "execution_count": null,
      "metadata": {
        "colab": {
          "base_uri": "https://localhost:8080/"
        },
        "id": "bbzg5Kxknyow",
        "outputId": "f2f7faf5-e706-4288-b5c7-1317c8a58085"
      },
      "outputs": [
        {
          "name": "stdout",
          "output_type": "stream",
          "text": [
            "[3, 4, 5, 6, 7]\n"
          ]
        }
      ],
      "source": [
        "#47)Find intersection of two lists\n",
        "def list_intersection(a,b):\n",
        "  return list(set(a) and set(b))\n",
        "print(list_intersection([1,2,3,4,5],[3,4,5,6,7]))"
      ]
    },
    {
      "cell_type": "code",
      "execution_count": null,
      "metadata": {
        "colab": {
          "base_uri": "https://localhost:8080/"
        },
        "id": "KYV4lgXgoONW",
        "outputId": "0cee05d3-5b68-4910-a876-907b44a75488"
      },
      "outputs": [
        {
          "name": "stdout",
          "output_type": "stream",
          "text": [
            "Enter the number:4354\n",
            "reverse of 4354 is 4534\n"
          ]
        }
      ],
      "source": [
        "#48)Write a code to reverse a number\n",
        "num=int(input(\"Enter the number:\"))\n",
        "temp=num\n",
        "reverse=0\n",
        "while num>0:\n",
        "  remainder=num%10\n",
        "  reverse=reverse*10+remainder\n",
        "  num//=10\n",
        "print(\"reverse of\",temp,\"is\",reverse)\n",
        "\n"
      ]
    },
    {
      "cell_type": "code",
      "execution_count": null,
      "metadata": {
        "colab": {
          "base_uri": "https://localhost:8080/"
        },
        "id": "4Agl6ZzZq-Jq",
        "outputId": "d2ce164a-dbbb-4c89-fb30-ceedb7ac35c5"
      },
      "outputs": [
        {
          "name": "stdout",
          "output_type": "stream",
          "text": [
            "Enter First Number:76\n",
            "Enter Second Number:85\n",
            "GCD of two Number: 1\n"
          ]
        }
      ],
      "source": [
        "#49)Write code of Greatest Common Divisor\n",
        "num1 = int(input(\"Enter First Number:\"))\n",
        "num2 = int(input(\"Enter Second Number:\"))\n",
        "\n",
        "\n",
        "def gcdFunction(num1, num2):\n",
        "    if num1 > num2:\n",
        "        small = num2\n",
        "    else:\n",
        "        small = num1\n",
        "    for i in range(1, small+1):\n",
        "        if (num1 % i == 0) and (num2 % i == 0):\n",
        "            gcd = i\n",
        "    print(\"GCD of two Number: {}\".format(gcd))\n",
        "\n",
        "gcdFunction(num1, num2)"
      ]
    },
    {
      "cell_type": "code",
      "execution_count": null,
      "metadata": {
        "colab": {
          "base_uri": "https://localhost:8080/"
        },
        "id": "fIKaasRwruDv",
        "outputId": "97c1c8ba-7bcd-43fa-fd3b-e015f8a838d7"
      },
      "outputs": [
        {
          "name": "stdout",
          "output_type": "stream",
          "text": [
            "Enter any number:23\n",
            "the number is not a perfect number\n"
          ]
        }
      ],
      "source": [
        "#50)Write code of  Perfect number\n",
        "n=int(input(\"Enter any number:\"))\n",
        "sump=0\n",
        "for i in range(1,n):\n",
        "  if(n%i==0):\n",
        "    sump=sump+i\n",
        "if (sump==n):\n",
        "  print(\"the number is a perfect number\")\n",
        "else:\n",
        "  print(\"the number is not a perfect number\")"
      ]
    },
    {
      "cell_type": "code",
      "execution_count": null,
      "metadata": {
        "colab": {
          "base_uri": "https://localhost:8080/"
        },
        "id": "bXttnX-Xs23H",
        "outputId": "c377d891-2ba9-4221-ae43-df2cfc305a08"
      },
      "outputs": [
        {
          "name": "stdout",
          "output_type": "stream",
          "text": [
            "enter the 1st string:ram\n",
            "enter the 2nd string:sham\n",
            "string are not anagram\n"
          ]
        }
      ],
      "source": [
        "# 51)Write code to Check if two strings are Anagram or not\n",
        "string1=input(\"enter the 1st string:\")\n",
        "string2=input(\"enter the 2nd string:\")\n",
        "if len(string1)!=len(string2):\n",
        "  print(\"string are not anagram\")\n",
        "else:\n",
        "  string =sorted(string1)\n",
        "  string2=sorted(string2)\n",
        "  if string==string2:\n",
        "    print(\"string are anagram\")\n",
        "  else:\n",
        "    print(\"string are not anagram\")"
      ]
    },
    {
      "cell_type": "code",
      "execution_count": null,
      "metadata": {
        "colab": {
          "base_uri": "https://localhost:8080/"
        },
        "id": "paIHUAkWtlu5",
        "outputId": "8c0a8db7-ee25-45a8-ace6-1dbedb470f56"
      },
      "outputs": [
        {
          "name": "stdout",
          "output_type": "stream",
          "text": [
            "enter the string:nack\n",
            "string is not palindromic\n"
          ]
        }
      ],
      "source": [
        "#52)Write code Check if the given string is Palindrome or not\n",
        "string1=input(\"enter the string:\")\n",
        "string2=string1[::-1]\n",
        "if string1== string2:\n",
        "  print(\"string is palindromic\")\n",
        "else:\n",
        "  print(\"string is not palindromic\")"
      ]
    },
    {
      "cell_type": "code",
      "source": [
        "#53)Write a program to check if the given number is Armstrong or not\n",
        "num = int(input(\"Enter a number: \"))\n",
        "sum = 0\n",
        "temp = num\n",
        "while temp > 0:\n",
        "   digit = temp % 10\n",
        "   sum += digit ** 3\n",
        "   temp //= 10\n",
        "if num == sum:\n",
        "   print(num,\"is an Armstrong number\")\n",
        "else:\n",
        "   print(num,\"is not an Armstrong number\")"
      ],
      "metadata": {
        "colab": {
          "base_uri": "https://localhost:8080/"
        },
        "id": "xY_VKxDneWMC",
        "outputId": "cb168b91-277b-46aa-f763-47836ddfbf55"
      },
      "execution_count": null,
      "outputs": [
        {
          "output_type": "stream",
          "name": "stdout",
          "text": [
            "Enter a number: 876\n",
            "876 is not an Armstrong number\n"
          ]
        }
      ]
    },
    {
      "cell_type": "code",
      "source": [
        "#54)Find non-repeating characters in a string\n",
        "String = \"prepinsta\"\n",
        "for i in String:\n",
        "    #initialize a count variable\n",
        "    count = 0\n",
        "    for j in String:\n",
        "        #check for repeated characters\n",
        "        if i == j:\n",
        "            count+=1\n",
        "        #if character is found more than 1 time\n",
        "        #brerak the loop\n",
        "        if count > 1:\n",
        "            break\n",
        "    #print for nonrepeating characters\n",
        "    if count == 1:\n",
        "        print(i,end = \" \")"
      ],
      "metadata": {
        "colab": {
          "base_uri": "https://localhost:8080/"
        },
        "id": "3DPuEb0bgfnX",
        "outputId": "0314c75a-731b-4d5d-ced8-e5f4345ef726"
      },
      "execution_count": null,
      "outputs": [
        {
          "output_type": "stream",
          "name": "stdout",
          "text": [
            "r e i n s t a "
          ]
        }
      ]
    },
    {
      "cell_type": "code",
      "source": [
        "#55) Write a code to replace a substring in a string.\n",
        "string=input(\"Enter String :\\n\")\n",
        "str1=input(\"Enter substring which has to be replaced :\\n\")\n",
        "str2=input(\"Enter substring with which str1 has to be replaced :\\n\")\n",
        "string=string.replace(str1,str2)\n",
        "print(\"String after replacement\")\n",
        "print(string)"
      ],
      "metadata": {
        "colab": {
          "base_uri": "https://localhost:8080/"
        },
        "id": "AUJCxY_6gt4H",
        "outputId": "053f1aad-df9e-4aa0-b1e7-41c262a53258"
      },
      "execution_count": null,
      "outputs": [
        {
          "output_type": "stream",
          "name": "stdout",
          "text": [
            "Enter String :\n",
            "GAYATRI\n",
            "Enter substring which has to be replaced :\n",
            "GAYU\n",
            "Enter substring with which str1 has to be replaced :\n",
            "GA\n",
            "String after replacement\n",
            "GAYATRI\n"
          ]
        }
      ]
    },
    {
      "cell_type": "code",
      "source": [
        "#56)Write a program to find the greatest of four numbers entered by the user.\n",
        "num1 = float(input(\"Enter first number: \"))\n",
        "num2 = float(input(\"Enter second number: \"))\n",
        "num3 = float(input(\"Enter third number: \"))\n",
        "num4 = float(input(\"Enter fourth number: \"))\n",
        "\n",
        "greatest = num1\n",
        "if num2 > greatest:\n",
        "    greatest = num2\n",
        "if num3 > greatest:\n",
        "    greatest = num3\n",
        "if num4 > greatest:\n",
        "    greatest = num4\n",
        "print(\"The greatest number is:\", greatest)"
      ],
      "metadata": {
        "colab": {
          "base_uri": "https://localhost:8080/"
        },
        "id": "w0ebY_H-g3qX",
        "outputId": "31695717-e9b6-4abd-a641-9de768e510c9"
      },
      "execution_count": null,
      "outputs": [
        {
          "output_type": "stream",
          "name": "stdout",
          "text": [
            "Enter first number: 45\n",
            "Enter second number: 76\n",
            "Enter third number: 98\n",
            "Enter fourth number: 98\n",
            "The greatest number is: 98.0\n"
          ]
        }
      ]
    },
    {
      "cell_type": "code",
      "source": [
        "'''57)Write a program to find out whether a student has passed or failed if it requires a\n",
        "total of 40% and at least 33% in each subject to pass. Assume 3 subjects and\n",
        "take marks as an input from the user. '''\n",
        "marks1 = int(input(\"Enter Marks 1: \"))\n",
        "marks2 = int(input(\"Enter Marks 2: \"))\n",
        "marks3 = int(input(\"Enter Marks 3: \"))\n",
        "\n",
        "# Check for total percentage\n",
        "total_percentage = (100*(marks1 + marks2 + marks3))/300\n",
        "\n",
        "if(total_percentage>=40 and marks1>=33 and marks2>=33 and marks3>=33):\n",
        "    print(\"You are passed:\", total_percentage)\n",
        "\n",
        "else:\n",
        "    print(\"You failed, try again next year:\", total_percentage)"
      ],
      "metadata": {
        "colab": {
          "base_uri": "https://localhost:8080/"
        },
        "id": "1XQhpnaUg_Gw",
        "outputId": "b16c7661-9f4a-4cba-e19f-5663e26b5afd"
      },
      "execution_count": null,
      "outputs": [
        {
          "output_type": "stream",
          "name": "stdout",
          "text": [
            "Enter Marks 1: 65\n",
            "Enter Marks 2: 76\n",
            "Enter Marks 3: 98\n",
            "You are passed: 79.66666666666667\n"
          ]
        }
      ]
    },
    {
      "cell_type": "code",
      "source": [
        "'''58)A spam comment is defined as a text containing following keywords:\n",
        "“Make a lot of money”, “buy now”, “subscribe this”, “click this”. Write a program\n",
        "to detect these spams. '''\n",
        "p1 = \"Make a lot of money\"\n",
        "p2 = \"buy now\"\n",
        "p3 = \"subscribe this\"\n",
        "p4 = \"click this\"\n",
        "\n",
        "message = input(\"Enter your comment: \")\n",
        "\n",
        "if((p1 in message) or (p2 in message )or (p3 in message) or (p4 in message)):\n",
        "    print(\"This comment is a spam\")\n",
        "\n",
        "else:\n",
        "    print(\"This comment is not a spam\")"
      ],
      "metadata": {
        "colab": {
          "base_uri": "https://localhost:8080/"
        },
        "id": "L_FtYlLRhJph",
        "outputId": "4764b974-0507-4e8d-9a93-24680314359c"
      },
      "execution_count": null,
      "outputs": [
        {
          "output_type": "stream",
          "name": "stdout",
          "text": [
            "Enter your comment: my name is gayatri\n",
            "This comment is not a spam\n"
          ]
        }
      ]
    },
    {
      "cell_type": "code",
      "source": [
        "'''59) Write a program to find whether a given username contains less than 10\n",
        "characters or not. '''\n",
        "username = input(\"Enter username: \")\n",
        "\n",
        "if(len(username)<10):\n",
        "    print(\"Your username contains less than 10 characters\")\n",
        "else:\n",
        "    print(\"Your username contains more than or equal to 10 characters\")"
      ],
      "metadata": {
        "colab": {
          "base_uri": "https://localhost:8080/"
        },
        "id": "l48sGM69hTIz",
        "outputId": "1d6ed756-c60a-4555-c697-71ece659162e"
      },
      "execution_count": null,
      "outputs": [
        {
          "output_type": "stream",
          "name": "stdout",
          "text": [
            "Enter username: gayatri\n",
            "Your username contains less than 10 characters\n"
          ]
        }
      ]
    },
    {
      "cell_type": "code",
      "source": [
        "'''60)Write a program which finds out whether a given name is present in a list or not.'''\n",
        "l = [\"Hany\", \"Rohan\", \"Shubham\", \"Divya\"]\n",
        "\n",
        "name = input(\"Enter your name: \")\n",
        "\n",
        "if(name in l):\n",
        "    print(\"Your name is in the list\")\n",
        "else:\n",
        "    print(\"Your name is not in the list\")"
      ],
      "metadata": {
        "colab": {
          "base_uri": "https://localhost:8080/"
        },
        "id": "kUOO9d0GhbIY",
        "outputId": "b400c599-affd-4746-fd7e-3c209c9ecec6"
      },
      "execution_count": null,
      "outputs": [
        {
          "output_type": "stream",
          "name": "stdout",
          "text": [
            "Enter your name: Shubham\n",
            "Your name is in the list\n"
          ]
        }
      ]
    },
    {
      "cell_type": "code",
      "source": [
        "'''61)Write a program to calculate the grade of a student from his marks from the\n",
        "following scheme:\n",
        "90 – 100 => Ex\n",
        "80 – 90 => A\n",
        "70 – 80 => B\n",
        "60 – 70  =>C\n",
        "50 – 60 => D\n",
        "<50\n",
        "=> F'''\n",
        "marks = int(input(\"Enter your marks: \"))\n",
        "\n",
        "if(marks<=100 and marks>=90):\n",
        "    grade = \"Ex\"\n",
        "elif(marks<90 and marks>=80):\n",
        "    grade = \"A\"\n",
        "elif(marks<80 and marks>=70):\n",
        "    grade = \"B\"\n",
        "elif(marks<70 and marks>=60):\n",
        "    grade = \"C\"\n",
        "elif(marks<60 and marks>=50):\n",
        "    grade = \"D\"\n",
        "elif(marks<50):\n",
        "    grade = \"F\"\n",
        "\n",
        "print(\"Your grade is:\", grade)"
      ],
      "metadata": {
        "colab": {
          "base_uri": "https://localhost:8080/"
        },
        "id": "iPv8LgEdhkF3",
        "outputId": "22c35066-89a0-4fd5-a442-32ca17ab972f"
      },
      "execution_count": null,
      "outputs": [
        {
          "output_type": "stream",
          "name": "stdout",
          "text": [
            "Enter your marks: 93\n",
            "Your grade is: Ex\n"
          ]
        }
      ]
    },
    {
      "cell_type": "code",
      "source": [
        "#62)Write a program to find out whether a given post is talking about “gayatri” or not.\n",
        "post = input(\"Enter the post: \")\n",
        "\n",
        "\n",
        "\n",
        "if(\"gayatri\" in post.lower()):\n",
        "    print(\"This post is talking about gayatri\")\n",
        "\n",
        "else:\n",
        "    print(\"This post is not talking about gayatri\")"
      ],
      "metadata": {
        "colab": {
          "base_uri": "https://localhost:8080/"
        },
        "id": "77M-wuP1hr7e",
        "outputId": "2ab40eef-f62c-490b-dfe1-785eec94eebc"
      },
      "execution_count": null,
      "outputs": [
        {
          "output_type": "stream",
          "name": "stdout",
          "text": [
            "Enter the post: hi i am gayatri\n",
            "This post is talking about gayatri\n"
          ]
        }
      ]
    },
    {
      "cell_type": "code",
      "source": [
        "#63)Write a program to print multiplication table of a given number using for loop.\n",
        "n = int(input(\"Enter a number: \"))\n",
        "\n",
        "for i in range(1, 11):\n",
        "    print(f\"{n} X {i} = {n * i}\")"
      ],
      "metadata": {
        "colab": {
          "base_uri": "https://localhost:8080/"
        },
        "id": "nBOfeEBfh16_",
        "outputId": "d75c002f-4805-4eec-b55c-06bade71f8e7"
      },
      "execution_count": null,
      "outputs": [
        {
          "output_type": "stream",
          "name": "stdout",
          "text": [
            "Enter a number: 6\n",
            "6 X 1 = 6\n",
            "6 X 2 = 12\n",
            "6 X 3 = 18\n",
            "6 X 4 = 24\n",
            "6 X 5 = 30\n",
            "6 X 6 = 36\n",
            "6 X 7 = 42\n",
            "6 X 8 = 48\n",
            "6 X 9 = 54\n",
            "6 X 10 = 60\n"
          ]
        }
      ]
    },
    {
      "cell_type": "code",
      "source": [
        "'''64)Write a program to greet all the person names stored in a list ‘l’ and which starts\n",
        "with S.'''\n",
        "l = [\"Harry\", \"Soham\", \"Sachin\", \"Rahul\"]\n",
        "l = [\"Harry\", \"Soham\", \"Sachin\", \"Rahul\"]\n",
        "\n",
        "for name in l:\n",
        "    if(name.startswith(\"S\")):\n",
        "        print(f\"Hello {name}\")"
      ],
      "metadata": {
        "colab": {
          "base_uri": "https://localhost:8080/"
        },
        "id": "ZHcDuEU3h8iF",
        "outputId": "7a5998bc-4f17-465b-851b-91191e644a4b"
      },
      "execution_count": null,
      "outputs": [
        {
          "output_type": "stream",
          "name": "stdout",
          "text": [
            "Hello Soham\n",
            "Hello Sachin\n"
          ]
        }
      ]
    },
    {
      "cell_type": "code",
      "source": [
        "'''65)Write a program to find the sum of first n natural numbers using while loop.'''\n",
        "n = int(input(\"Enter the number: \"))\n",
        "i = 1\n",
        "sum = 0\n",
        "while(i<=n):\n",
        "    sum += i\n",
        "    i+=1\n",
        "\n",
        "print(sum)"
      ],
      "metadata": {
        "colab": {
          "base_uri": "https://localhost:8080/"
        },
        "id": "9PzvX_erh_55",
        "outputId": "1298059e-25a7-4348-f4a5-4e244d4e2ab8"
      },
      "execution_count": null,
      "outputs": [
        {
          "output_type": "stream",
          "name": "stdout",
          "text": [
            "Enter the number: 76\n",
            "2926\n"
          ]
        }
      ]
    },
    {
      "cell_type": "code",
      "source": [
        "#66)Write a program to calculate the factorial of a given number using for loop.\n",
        "# 5! = 1 X 2 X 3 X 4 X 5\n",
        "\n",
        "n = int(input(\"Enter the number: \"))\n",
        "product = 1\n",
        "for i in range(1, n+1):\n",
        "    product = product * i\n",
        "\n",
        "print(f\"The factorial of {n} is {product}\")"
      ],
      "metadata": {
        "colab": {
          "base_uri": "https://localhost:8080/"
        },
        "id": "LMeW859JiD47",
        "outputId": "b00f0299-65ad-4ce6-cd7d-50397b634269"
      },
      "execution_count": null,
      "outputs": [
        {
          "output_type": "stream",
          "name": "stdout",
          "text": [
            "Enter the number: 7\n",
            "The factorial of 7 is 5040\n"
          ]
        }
      ]
    },
    {
      "cell_type": "code",
      "source": [
        "'''67)Write a program to print the following star pattern.\n",
        "*\n",
        "***\n",
        "***** for n = 3'''\n",
        "'''\n",
        "For n = 3\n",
        "  *\n",
        " ***\n",
        "*****\n",
        "\n",
        "For n = 5\n",
        "    *\n",
        "   ***\n",
        "  *****\n",
        " ********\n",
        "**********\n",
        "\n",
        "'''\n",
        "\n",
        "n = int(input(\"Enter the number: \"))\n",
        "for i in range(1, n+1):\n",
        "    print(\" \"* (n-i), end=\"\")\n",
        "    print(\"*\"* (2*i-1), end=\"\")\n",
        "    print(\"\")"
      ],
      "metadata": {
        "colab": {
          "base_uri": "https://localhost:8080/"
        },
        "id": "NKi5tbI3iKLb",
        "outputId": "a8efa52e-d6c9-4779-9205-f98d939aad65"
      },
      "execution_count": null,
      "outputs": [
        {
          "output_type": "stream",
          "name": "stdout",
          "text": [
            "Enter the number: 6\n",
            "     *\n",
            "    ***\n",
            "   *****\n",
            "  *******\n",
            " *********\n",
            "***********\n"
          ]
        }
      ]
    },
    {
      "cell_type": "code",
      "source": [
        "'''68)Write a program to print the following star pattern:\n",
        "*\n",
        "**\n",
        "***      for n = 3'''\n",
        "n = int(input(\"Enter the number: \"))\n",
        "for i in range(1, n+1):\n",
        "    print(\"*\"* i, end=\"\")\n",
        "    print(\"\")"
      ],
      "metadata": {
        "colab": {
          "base_uri": "https://localhost:8080/"
        },
        "id": "aUE9BRnsiO0w",
        "outputId": "5d02fa08-1319-44d8-ef41-42ddd1a8af8e"
      },
      "execution_count": null,
      "outputs": [
        {
          "output_type": "stream",
          "name": "stdout",
          "text": [
            "Enter the number: 5\n",
            "*\n",
            "**\n",
            "***\n",
            "****\n",
            "*****\n"
          ]
        }
      ]
    },
    {
      "cell_type": "code",
      "source": [
        "'''69) Write a program to print the following star pattern.\n",
        "* * *\n",
        "*   *   for n = 3\n",
        "* * *  '''\n",
        "'''\n",
        "\n",
        "***\n",
        "* *       for n = 3\n",
        "***\n",
        "\n",
        "\n",
        "'''\n",
        "n = int(input(\"Enter the number: \"))\n",
        "for i in range(1, n+1):\n",
        "    if(i==1 or i==n):\n",
        "        print(\"*\"* n, end=\"\")\n",
        "    else:\n",
        "        print(\"*\", end=\"\")\n",
        "        print(\" \"* (n-2), end=\"\")\n",
        "        print(\"*\", end=\"\")\n",
        "    print(\"\")"
      ],
      "metadata": {
        "colab": {
          "base_uri": "https://localhost:8080/"
        },
        "id": "leUS--BLiVJl",
        "outputId": "8c6bed1a-fe72-4ffc-e0b0-fb93e3c44694"
      },
      "execution_count": null,
      "outputs": [
        {
          "output_type": "stream",
          "name": "stdout",
          "text": [
            "Enter the number: 8\n",
            "********\n",
            "*      *\n",
            "*      *\n",
            "*      *\n",
            "*      *\n",
            "*      *\n",
            "*      *\n",
            "********\n"
          ]
        }
      ]
    },
    {
      "cell_type": "code",
      "source": [
        "'''70). Write a program to print multiplication table of n using for loops in reversed\n",
        "order.'''\n",
        "n = int(input(\"Enter the number: \"))\n",
        "\n",
        "for i in range(1, 11):\n",
        "    print(f\"{n} X {11 -i} = {n*(11-i)}\")"
      ],
      "metadata": {
        "colab": {
          "base_uri": "https://localhost:8080/"
        },
        "id": "oRMZHVGEiaTt",
        "outputId": "dc149c46-b101-44cd-d546-ebe6626e18fe"
      },
      "execution_count": null,
      "outputs": [
        {
          "output_type": "stream",
          "name": "stdout",
          "text": [
            "Enter the number: 5\n",
            "5 X 10 = 50\n",
            "5 X 9 = 45\n",
            "5 X 8 = 40\n",
            "5 X 7 = 35\n",
            "5 X 6 = 30\n",
            "5 X 5 = 25\n",
            "5 X 4 = 20\n",
            "5 X 3 = 15\n",
            "5 X 2 = 10\n",
            "5 X 1 = 5\n"
          ]
        }
      ]
    },
    {
      "cell_type": "code",
      "source": [
        "#71)Write a program using functions to find greatest of three numbers.\n",
        "def greatest(a, b, c):\n",
        "    if(a>b and a>c):\n",
        "        return a\n",
        "    elif(b>a and b>c):\n",
        "        return b\n",
        "    elif(c>b and c>a):\n",
        "        return c\n",
        "\n",
        "a = 1\n",
        "b = 23\n",
        "c = 3\n",
        "\n",
        "print(greatest(a, b, c))"
      ],
      "metadata": {
        "colab": {
          "base_uri": "https://localhost:8080/"
        },
        "id": "XGww6JM7i2GR",
        "outputId": "9ee05df7-f289-47ab-ef98-d92c1e165085"
      },
      "execution_count": null,
      "outputs": [
        {
          "output_type": "stream",
          "name": "stdout",
          "text": [
            "23\n"
          ]
        }
      ]
    },
    {
      "cell_type": "code",
      "source": [
        "#72) Write a python program using function to convert Celsius to Fahrenheit.\n",
        "def f_to_c(f):\n",
        "    return 5*(f-32)/9\n",
        "\n",
        "f = int(input(\"Enter temperature in F: \"))\n",
        "c = f_to_c(f)\n",
        "print(f\"{round(c, 2)}°C\")"
      ],
      "metadata": {
        "colab": {
          "base_uri": "https://localhost:8080/"
        },
        "id": "K1VeHUhljF9Q",
        "outputId": "772752d5-35a2-495e-b833-491f7f0c80a7"
      },
      "execution_count": null,
      "outputs": [
        {
          "output_type": "stream",
          "name": "stdout",
          "text": [
            "Enter temperature in F: 54\n",
            "12.22°C\n"
          ]
        }
      ]
    },
    {
      "cell_type": "code",
      "source": [
        " #73)How do you prevent a python print() function to print a new line at the end.\n",
        "print(\"a\")\n",
        "print(\"b\")\n",
        "print(\"c\", end=\"\")\n",
        "print(\"d\", end=\"\"),"
      ],
      "metadata": {
        "colab": {
          "base_uri": "https://localhost:8080/"
        },
        "id": "cn6TuNWKjTvq",
        "outputId": "c2a25ca3-7fcc-491f-bba4-ce11282a4c3f"
      },
      "execution_count": null,
      "outputs": [
        {
          "output_type": "stream",
          "name": "stdout",
          "text": [
            "a\n",
            "b\n",
            "cd"
          ]
        },
        {
          "output_type": "execute_result",
          "data": {
            "text/plain": [
              "(None,)"
            ]
          },
          "metadata": {},
          "execution_count": 22
        }
      ]
    },
    {
      "cell_type": "code",
      "source": [
        "#74) Write a recursive function to calculate the sum of first n natural numbers.\n",
        "'''\n",
        "sum(1) = 1\n",
        "sum(2) = 1 + 2\n",
        "sum(3) = 1 + 2 + 3\n",
        "sum(4) = 1 + 2 + 3 + 4\n",
        "sum(5) = 1 + 2 + 3 + 4 + 5\n",
        "\n",
        "sum(n) = 1 + 2 + 3 + 4.... n -1 + n\n",
        "sum(n) = sum(n-1) + n\n",
        "'''\n",
        "\n",
        "def sum(n):\n",
        "    if(n==1):\n",
        "        return 1\n",
        "    return sum(n-1) + n\n",
        "\n",
        "print(sum(4))"
      ],
      "metadata": {
        "colab": {
          "base_uri": "https://localhost:8080/"
        },
        "id": "JlsZ7jeIjpmW",
        "outputId": "b61b1746-f760-4461-840e-c6f0b8646187"
      },
      "execution_count": null,
      "outputs": [
        {
          "output_type": "stream",
          "name": "stdout",
          "text": [
            "10\n"
          ]
        }
      ]
    },
    {
      "cell_type": "code",
      "source": [
        "'''75)Write a python function to print first n lines of the following pattern:\n",
        "***\n",
        "**\n",
        "* - for n = 3'''\n",
        "def pattern(n):\n",
        "    if(n==0):\n",
        "        return\n",
        "    print(\"*\" * n)\n",
        "    pattern(n-1)\n",
        "\n",
        "\n",
        "pattern(3)"
      ],
      "metadata": {
        "colab": {
          "base_uri": "https://localhost:8080/"
        },
        "id": "KvFk0D1tj8M0",
        "outputId": "5672891c-9c59-4773-8782-9a2940c9135e"
      },
      "execution_count": null,
      "outputs": [
        {
          "output_type": "stream",
          "name": "stdout",
          "text": [
            "***\n",
            "**\n",
            "*\n"
          ]
        }
      ]
    },
    {
      "cell_type": "code",
      "source": [
        "'''76)Write a python function which converts inches to cms.'''\n",
        "def inch_to_cms(inch):\n",
        "    return inch * 2.54\n",
        "\n",
        "n = int(input(\"Enter value in inches: \"))\n",
        "\n",
        "print(f\"The corresponding value in cms is {inch_to_cms(n)}\")"
      ],
      "metadata": {
        "colab": {
          "base_uri": "https://localhost:8080/"
        },
        "id": "tjLMLjlvkKPQ",
        "outputId": "3d112062-94af-485d-c4b4-be1af5f67796"
      },
      "execution_count": null,
      "outputs": [
        {
          "output_type": "stream",
          "name": "stdout",
          "text": [
            "Enter value in inches: 65\n",
            "The corresponding value in cms is 165.1\n"
          ]
        }
      ]
    },
    {
      "cell_type": "code",
      "source": [
        "'''q77)Write a python function to remove a given word from a list ad strip it at the same\n",
        "time. '''\n",
        "def rem(l, word):\n",
        "    n = []\n",
        "    for item in l:\n",
        "        if not(item == word):\n",
        "            n.append(item.strip(word))\n",
        "    return n\n",
        "\n",
        "\n",
        "l = [\"Harry\", \"Rohan\", \"Shubham\", \"an\"]\n",
        "\n",
        "print(rem(l, \"an\"))"
      ],
      "metadata": {
        "colab": {
          "base_uri": "https://localhost:8080/"
        },
        "id": "rQN33YFckfRp",
        "outputId": "82d91cb2-9085-48c1-a249-bd3c7858d8ac"
      },
      "execution_count": null,
      "outputs": [
        {
          "output_type": "stream",
          "name": "stdout",
          "text": [
            "['Harry', 'Roh', 'Shubham']\n"
          ]
        }
      ]
    },
    {
      "cell_type": "code",
      "source": [
        "#78) Write a python function to print multiplication table of a given number.\n",
        "def multiply(n):\n",
        "    for i in range(1, 11):\n",
        "        print(f\"{n} X {i} = {n*i}\")\n",
        "\n",
        "multiply(5)"
      ],
      "metadata": {
        "colab": {
          "base_uri": "https://localhost:8080/"
        },
        "id": "JUletLE1ksh3",
        "outputId": "cbadf1b0-2940-4748-f369-8cda2f2948d6"
      },
      "execution_count": null,
      "outputs": [
        {
          "output_type": "stream",
          "name": "stdout",
          "text": [
            "5 X 1 = 5\n",
            "5 X 2 = 10\n",
            "5 X 3 = 15\n",
            "5 X 4 = 20\n",
            "5 X 5 = 25\n",
            "5 X 6 = 30\n",
            "5 X 7 = 35\n",
            "5 X 8 = 40\n",
            "5 X 9 = 45\n",
            "5 X 10 = 50\n"
          ]
        }
      ]
    },
    {
      "cell_type": "code",
      "source": [
        "'''79)Write a python program to display a user entered name followed by Good\n",
        "Afternoon using input () function.'''\n",
        "name = input(\"Enter your name: \")\n",
        "\n",
        "print(f\"Good Afternoon, {name} \")"
      ],
      "metadata": {
        "colab": {
          "base_uri": "https://localhost:8080/"
        },
        "id": "nX58cLNgl3Ac",
        "outputId": "26454fc6-38e5-424d-9ad8-be2ad0819a0d"
      },
      "execution_count": null,
      "outputs": [
        {
          "output_type": "stream",
          "name": "stdout",
          "text": [
            "Enter your name: gayatri\n",
            "Good Afternoon, gayatri \n"
          ]
        }
      ]
    },
    {
      "cell_type": "code",
      "source": [
        "'''80) Write a program to detect double space in a string.'''\n",
        "name = \"Ram is a good  boy and  \"\n",
        "\n",
        "print(name.find(\"  \"))"
      ],
      "metadata": {
        "colab": {
          "base_uri": "https://localhost:8080/"
        },
        "id": "1TR_BcqDmkrD",
        "outputId": "1ec1d6e4-5791-415b-e823-dbf3beda66ae"
      },
      "execution_count": null,
      "outputs": [
        {
          "output_type": "stream",
          "name": "stdout",
          "text": [
            "13\n"
          ]
        }
      ]
    },
    {
      "cell_type": "code",
      "source": [
        "'''81)Replace the double space from problem 3 with single spaces. '''\n",
        "name = \"sham is a good  boy and  \"\n",
        "\n",
        "print(name.replace(\"  \", \" \"))\n",
        "print(name)"
      ],
      "metadata": {
        "colab": {
          "base_uri": "https://localhost:8080/"
        },
        "id": "mZuGk6i5nBpd",
        "outputId": "4334c511-f5d0-4467-f4a1-3335c061c626"
      },
      "execution_count": null,
      "outputs": [
        {
          "output_type": "stream",
          "name": "stdout",
          "text": [
            "sham is a good boy and \n",
            "sham is a good  boy and  \n"
          ]
        }
      ]
    },
    {
      "cell_type": "code",
      "source": [
        "#82)Circle Area Calculator\n",
        "from math import pi\n",
        "r = float(input(\"Input the radius of the circle : \"))\n",
        "area = pi * r ** 2\n",
        "print(\"The area of the circle with radius \" + str(r) + \" is: \" + str(area))\n"
      ],
      "metadata": {
        "colab": {
          "base_uri": "https://localhost:8080/"
        },
        "id": "zuqMnkvEoxMe",
        "outputId": "a92f30c8-7156-4f10-bee5-89aac31dec75"
      },
      "execution_count": null,
      "outputs": [
        {
          "output_type": "stream",
          "name": "stdout",
          "text": [
            "Input the radius of the circle : 7\n",
            "The area of the circle with radius 7.0 is: 153.93804002589985\n"
          ]
        }
      ]
    },
    {
      "cell_type": "code",
      "source": [
        "#83)Print first and last name in reverse order with a space between them\n",
        "fname = input(\"Input your First Name : \")\n",
        "lname = input(\"Input your Last Name : \")\n",
        "print(\"Hello  \" + lname + \" \" + fname)"
      ],
      "metadata": {
        "colab": {
          "base_uri": "https://localhost:8080/"
        },
        "id": "I1EOZt9NrPdu",
        "outputId": "daffcf1d-2f29-425c-9677-c3dca97e99ea"
      },
      "execution_count": null,
      "outputs": [
        {
          "output_type": "stream",
          "name": "stdout",
          "text": [
            "Input your First Name : Gayatri\n",
            "Input your Last Name : Jondhale\n",
            "Hello  Jondhale Gayatri\n"
          ]
        }
      ]
    },
    {
      "cell_type": "code",
      "source": [
        "#84)Generate a list and tuple with comma-separated numbers\n",
        "values = input(\"Input some comma-separated numbers: \")\n",
        "list = values.split(\",\")\n",
        "tuple = tuple(list)\n",
        "print('List : ', list)\n",
        "print('Tuple : ', tuple)"
      ],
      "metadata": {
        "colab": {
          "base_uri": "https://localhost:8080/"
        },
        "id": "Qiae9Hi1rubh",
        "outputId": "207bdee6-2e1a-4894-a9c9-ac59a76d2a51"
      },
      "execution_count": null,
      "outputs": [
        {
          "output_type": "stream",
          "name": "stdout",
          "text": [
            "Input some comma-separated numbers: 6,5,6,7\n",
            "List :  ['6', '5', '6', '7']\n",
            "Tuple :  ('6', '5', '6', '7')\n"
          ]
        }
      ]
    },
    {
      "cell_type": "code",
      "source": [
        "#85)Concatenate all elements in a list into a string\n",
        "def concatenate_list_data(lst):\n",
        "    result = ''\n",
        "\n",
        "    for element in lst:\n",
        "        result += str(element)\n",
        "    return result\n",
        "print(concatenate_list_data([1, 5, 12, 2]))"
      ],
      "metadata": {
        "colab": {
          "base_uri": "https://localhost:8080/"
        },
        "id": "YCmp-JmisMqw",
        "outputId": "054808e0-5ecf-4671-d1f0-5897938d1206"
      },
      "execution_count": null,
      "outputs": [
        {
          "output_type": "stream",
          "name": "stdout",
          "text": [
            "15122\n"
          ]
        }
      ]
    },
    {
      "cell_type": "code",
      "source": [
        "#86) How to calculate area of a triangle in Python?\n",
        "b = int(input(\"Input the base : \"))\n",
        "h = int(input(\"Input the height : \"))\n",
        "area = b * h / 2\n",
        "print(\"area = \", area)"
      ],
      "metadata": {
        "colab": {
          "base_uri": "https://localhost:8080/"
        },
        "id": "WnU-Ll8wsyQo",
        "outputId": "866002f3-c281-451f-edde-721a8787d9b0"
      },
      "execution_count": null,
      "outputs": [
        {
          "output_type": "stream",
          "name": "stdout",
          "text": [
            "Input the base : 5\n",
            "Input the height : 6\n",
            "area =  15.0\n"
          ]
        }
      ]
    },
    {
      "cell_type": "code",
      "source": [
        "#87)Greatest common divisor (GCD) of two positive integers\n",
        "def gcd(x, y):\n",
        "    gcd = 1\n",
        "    if x % y == 0:\n",
        "        return y\n",
        "    for k in range(int(y / 2), 0, -1):\n",
        "        if x % k == 0 and y % k == 0:\n",
        "            gcd = k\n",
        "            break\n",
        "    return gcd\n",
        "print(\"GCD of 12 & 17 =\", gcd(12, 17))\n",
        "print(\"GCD of 4 & 6 =\", gcd(4, 6))\n",
        "print(\"GCD of 336 & 360 =\", gcd(336, 360))"
      ],
      "metadata": {
        "colab": {
          "base_uri": "https://localhost:8080/"
        },
        "id": "7mM55Du2tG8I",
        "outputId": "314b9460-cd15-4445-f12d-be8e0345d7a5"
      },
      "execution_count": null,
      "outputs": [
        {
          "output_type": "stream",
          "name": "stdout",
          "text": [
            "GCD of 12 & 17 = 1\n",
            "GCD of 4 & 6 = 2\n",
            "GCD of 336 & 360 = 24\n"
          ]
        }
      ]
    },
    {
      "cell_type": "code",
      "source": [
        "#87)Least common multiple (LCM) of two positive integers\n",
        "def lcm(x, y):\n",
        "    if x > y:\n",
        "        z = x\n",
        "    else:\n",
        "        z = y\n",
        "    while True:\n",
        "        if (z % x == 0) and (z % y == 0):\n",
        "            lcm = z\n",
        "            break\n",
        "        z += 1\n",
        "    return lcm\n",
        "print(lcm(4, 6))\n",
        "print(lcm(15, 17))"
      ],
      "metadata": {
        "colab": {
          "base_uri": "https://localhost:8080/"
        },
        "id": "-wELaQXAtyB9",
        "outputId": "e81145b5-4fd0-41da-fc1e-693c25145adf"
      },
      "execution_count": null,
      "outputs": [
        {
          "output_type": "stream",
          "name": "stdout",
          "text": [
            "12\n",
            "255\n"
          ]
        }
      ]
    },
    {
      "cell_type": "code",
      "source": [
        "#88)How to find the distance between two points in Python?\n",
        "import math\n",
        "p1 = [4, 0]\n",
        "p2 = [6, 6]\n",
        "distance = math.sqrt(((p1[0] - p2[0]) ** 2) + ((p1[1] - p2[1]) ** 2))\n",
        "print(distance)"
      ],
      "metadata": {
        "colab": {
          "base_uri": "https://localhost:8080/"
        },
        "id": "aQ5hMaQJuXSR",
        "outputId": "8c80c3de-574a-42ec-d41b-2d47e906aa16"
      },
      "execution_count": null,
      "outputs": [
        {
          "output_type": "stream",
          "name": "stdout",
          "text": [
            "6.324555320336759\n"
          ]
        }
      ]
    },
    {
      "cell_type": "code",
      "source": [
        "'''89) Write a program to read the text from a given file ‘poems.txt’ and find out\n",
        "whether it contains the word ‘twinkle’. '''\n",
        "f = open(\"poem.txt\")\n",
        "content = f.read()\n",
        "if(\"twinkle\" in content):\n",
        "    print(\"The word twinkle is present in the content\")\n",
        "\n",
        "else:\n",
        "    print(\"The word twinkle is not present in the content\")\n",
        "\n",
        "f.close()\n"
      ],
      "metadata": {
        "colab": {
          "base_uri": "https://localhost:8080/"
        },
        "id": "WYj-lTxfuzIj",
        "outputId": "c44be0e9-ec1b-42e1-ed6b-df45fa115e29"
      },
      "execution_count": null,
      "outputs": [
        {
          "output_type": "stream",
          "name": "stdout",
          "text": [
            "The word twinkle is present in the content\n"
          ]
        }
      ]
    },
    {
      "cell_type": "code",
      "source": [
        "'''90)Create a class “Programmer” for storing information of few programmers\n",
        "working at Microsoft.'''\n",
        "class Programmer:\n",
        "    company = \"Microsoft\"\n",
        "    def __init__(self, name, salary, pin):\n",
        "        self.name = name\n",
        "        self.salary = salary\n",
        "        self.pin = pin\n",
        "\n",
        "\n",
        "p = Programmer(\"Harry\", 1200000, 245001)\n",
        "print(p.name, p.salary, p.pin, p.company)\n",
        "r = Programmer(\"Rohan\", 1200000, 245001)\n",
        "print(r.name, r.salary, r.pin, r.company)"
      ],
      "metadata": {
        "colab": {
          "base_uri": "https://localhost:8080/"
        },
        "id": "-kHpMKMcwzec",
        "outputId": "4d6203bf-b08e-4994-a706-5329637dddce"
      },
      "execution_count": null,
      "outputs": [
        {
          "output_type": "stream",
          "name": "stdout",
          "text": [
            "Harry 1200000 245001 Microsoft\n",
            "Rohan 1200000 245001 Microsoft\n"
          ]
        }
      ]
    },
    {
      "cell_type": "code",
      "source": [
        "'''91)Write a class “Calculator” capable of finding square, cube and square root of a\n",
        "number. '''\n",
        "class Calculator:\n",
        "    def __init__(self, n):\n",
        "        self.n = n\n",
        "\n",
        "    def square(self):\n",
        "        print(f\"The square is {self.n*self.n}\")\n",
        "\n",
        "    def cube(self):\n",
        "        print(f\"The cube is {self.n*self.n*self.n}\")\n",
        "\n",
        "    def squareroot(self):\n",
        "        print(f\"The squareroot is {self.n**1/2}\")\n",
        "\n",
        "a = Calculator(4)\n",
        "a.square()\n",
        "a.cube()\n",
        "a.squareroot()"
      ],
      "metadata": {
        "colab": {
          "base_uri": "https://localhost:8080/"
        },
        "id": "qulcU4nOyNqG",
        "outputId": "26ec2798-0652-404a-939b-3faf68a66812"
      },
      "execution_count": null,
      "outputs": [
        {
          "output_type": "stream",
          "name": "stdout",
          "text": [
            "The square is 16\n",
            "The cube is 64\n",
            "The squareroot is 2.0\n"
          ]
        }
      ]
    },
    {
      "cell_type": "code",
      "source": [
        "'''92)Create a class with a class attribute a; create an object from it and set ‘a’\n",
        "directly using ‘object.a = 0’. Does this change the class attribute? '''\n",
        "class Demo:\n",
        "    a = 4\n",
        "\n",
        "o = Demo()\n",
        "print(o.a) # Prints the class attribute because instance attribute is not present\n",
        "o.a = 0 # Instance attribute is set\n",
        "print(o.a) # Prints the instance attribute because instance attribute is present\n",
        "print(Demo.a) # Prints the class attribute"
      ],
      "metadata": {
        "colab": {
          "base_uri": "https://localhost:8080/"
        },
        "id": "j5hR2Crlygb9",
        "outputId": "da214352-f134-4063-b9b8-1b909404b4c4"
      },
      "execution_count": null,
      "outputs": [
        {
          "output_type": "stream",
          "name": "stdout",
          "text": [
            "4\n",
            "0\n",
            "4\n"
          ]
        }
      ]
    },
    {
      "cell_type": "code",
      "source": [
        "#93)Add a static method in problem 2, to greet the user with hello.\n",
        "class Calculator:\n",
        "    def __init__(self, n):\n",
        "        self.n = n\n",
        "\n",
        "    def square(self):\n",
        "        print(f\"The square is {self.n*self.n}\")\n",
        "\n",
        "    def cube(self):\n",
        "        print(f\"The cube is {self.n*self.n*self.n}\")\n",
        "\n",
        "    def squareroot(self):\n",
        "        print(f\"The squareroot is {self.n**1/2}\")\n",
        "\n",
        "    @staticmethod\n",
        "    def hello():\n",
        "        print(\"Hello there!\")\n",
        "\n",
        "a = Calculator(4)\n",
        "a.hello()\n",
        "a.square()\n",
        "a.cube()\n",
        "a.squareroot()"
      ],
      "metadata": {
        "colab": {
          "base_uri": "https://localhost:8080/"
        },
        "id": "Aw-xafLiyulb",
        "outputId": "5a8fef15-2d57-47bd-fecf-cc461609c08a"
      },
      "execution_count": null,
      "outputs": [
        {
          "output_type": "stream",
          "name": "stdout",
          "text": [
            "Hello there!\n",
            "The square is 16\n",
            "The cube is 64\n",
            "The squareroot is 2.0\n"
          ]
        }
      ]
    },
    {
      "cell_type": "code",
      "source": [
        "#94)Find numbers which are divisible by 7 and multiple of 5 between a range\n",
        "nl = []\n",
        "for x in range(1500, 2701):\n",
        "    if (x % 7 == 0) and (x % 5 == 0):\n",
        "        nl.append(str(x))\n",
        "print(','.join(nl))"
      ],
      "metadata": {
        "colab": {
          "base_uri": "https://localhost:8080/"
        },
        "id": "8lSTopjjZdWZ",
        "outputId": "ed69ad7e-3265-4e71-97d7-2d7dd5a94f3c"
      },
      "execution_count": null,
      "outputs": [
        {
          "output_type": "stream",
          "name": "stdout",
          "text": [
            "1505,1540,1575,1610,1645,1680,1715,1750,1785,1820,1855,1890,1925,1960,1995,2030,2065,2100,2135,2170,2205,2240,2275,2310,2345,2380,2415,2450,2485,2520,2555,2590,2625,2660,2695\n"
          ]
        }
      ]
    },
    {
      "cell_type": "code",
      "source": [
        "#95)Reverse a word\n",
        "word = input(\"Input a word to reverse: \")\n",
        "for char in range(len(word) - 1, -1, -1):\n",
        "    print(word[char], end=\"\")\n",
        "print(\"\\n\")"
      ],
      "metadata": {
        "colab": {
          "base_uri": "https://localhost:8080/"
        },
        "id": "BRdtut9haM-_",
        "outputId": "04833483-a9dd-4af2-97ae-e21f2afb8c2d"
      },
      "execution_count": null,
      "outputs": [
        {
          "output_type": "stream",
          "name": "stdout",
          "text": [
            "Input a word to reverse: gayatri\n",
            "irtayag\n",
            "\n"
          ]
        }
      ]
    },
    {
      "cell_type": "code",
      "source": [
        "#96)Write a Python program to create the multiplication table (from 1 to 10) of a number.\n",
        "n = int(input(\"Input a number: \"))\n",
        "for i in range(1, 11):\n",
        "    print(n, 'x', i, '=', n * i)"
      ],
      "metadata": {
        "colab": {
          "base_uri": "https://localhost:8080/"
        },
        "id": "OKw5T5bJajLm",
        "outputId": "0ca887af-63a9-45b7-c68c-e96658dcb59b"
      },
      "execution_count": null,
      "outputs": [
        {
          "output_type": "stream",
          "name": "stdout",
          "text": [
            "Input a number: 9\n",
            "9 x 1 = 9\n",
            "9 x 2 = 18\n",
            "9 x 3 = 27\n",
            "9 x 4 = 36\n",
            "9 x 5 = 45\n",
            "9 x 6 = 54\n",
            "9 x 7 = 63\n",
            "9 x 8 = 72\n",
            "9 x 9 = 81\n",
            "9 x 10 = 90\n"
          ]
        }
      ]
    },
    {
      "cell_type": "code",
      "source": [
        "#97)Write a Python program to construct the following pattern, using a nested loop number\n",
        "for i in range(10):\n",
        "    print(str(i) * i)"
      ],
      "metadata": {
        "colab": {
          "base_uri": "https://localhost:8080/"
        },
        "id": "t-kQgydmbwa1",
        "outputId": "242f213d-3e7a-4fb7-a553-f0097983dd45"
      },
      "execution_count": null,
      "outputs": [
        {
          "output_type": "stream",
          "name": "stdout",
          "text": [
            "\n",
            "1\n",
            "22\n",
            "333\n",
            "4444\n",
            "55555\n",
            "666666\n",
            "7777777\n",
            "88888888\n",
            "999999999\n"
          ]
        }
      ]
    },
    {
      "cell_type": "code",
      "source": [
        "#98)Prints all the numbers from 0 to 6 except 3 and 6\n",
        "for x in range(6):\n",
        "    if (x == 3 or x == 6):\n",
        "        continue\n",
        "    print(x, end=' ')\n",
        "print(\"\\n\")"
      ],
      "metadata": {
        "colab": {
          "base_uri": "https://localhost:8080/"
        },
        "id": "OXmVimnjcAu6",
        "outputId": "dd0c20d1-2674-4bd6-8d55-a986a9764c16"
      },
      "execution_count": null,
      "outputs": [
        {
          "output_type": "stream",
          "name": "stdout",
          "text": [
            "0 1 2 4 5 \n",
            "\n"
          ]
        }
      ]
    },
    {
      "cell_type": "code",
      "source": [
        "#99)Write a program to find the given number is positive or negative.\n",
        "num = float(input(\"Enter a number: \"))\n",
        "if num > 0:\n",
        "   print(\"Positive number\")\n",
        "elif num == 0:\n",
        "   print(\"Zero\")\n",
        "else:\n",
        "   print(\"Negative number\")"
      ],
      "metadata": {
        "colab": {
          "base_uri": "https://localhost:8080/"
        },
        "id": "BqnJffjtcYUQ",
        "outputId": "93682983-a254-451d-9142-9873979146c8"
      },
      "execution_count": null,
      "outputs": [
        {
          "output_type": "stream",
          "name": "stdout",
          "text": [
            "Enter a number: 6.9\n",
            "Positive number\n"
          ]
        }
      ]
    },
    {
      "cell_type": "code",
      "source": [
        "#100)Write a program to check if the given number is palindrome or not.\n",
        "num = int(input(\"Enter a number: \"))\n",
        "temp = num\n",
        "reverse = 0\n",
        "while temp > 0:\n",
        "    remainder = temp % 10\n",
        "    reverse = (reverse * 10) + remainder\n",
        "    temp = temp // 10\n",
        "if num == reverse:\n",
        "  print('Palindrome')\n",
        "else:\n",
        "  print(\"Not Palindrome\")"
      ],
      "metadata": {
        "colab": {
          "base_uri": "https://localhost:8080/"
        },
        "id": "gcGoX539drEM",
        "outputId": "6eb0142d-778b-4986-825d-9a9e25b4e1c5"
      },
      "execution_count": null,
      "outputs": [
        {
          "output_type": "stream",
          "name": "stdout",
          "text": [
            "Enter a number: 123321\n",
            "Palindrome\n"
          ]
        }
      ]
    }
  ],
  "metadata": {
    "colab": {
      "provenance": []
    },
    "kernelspec": {
      "display_name": "Python 3",
      "name": "python3"
    },
    "language_info": {
      "name": "python"
    }
  },
  "nbformat": 4,
  "nbformat_minor": 0
}